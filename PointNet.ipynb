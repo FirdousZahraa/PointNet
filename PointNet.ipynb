{
 "cells": [
  {
   "cell_type": "markdown",
   "id": "ae9d0d0d",
   "metadata": {},
   "source": [
    "## Point Net Implementation"
   ]
  },
  {
   "cell_type": "code",
   "execution_count": 1,
   "id": "30df9aea",
   "metadata": {
    "_cell_guid": "b1076dfc-b9ad-4769-8c92-a6c4dae69d19",
    "_uuid": "8f2839f25d086af736a60e9eeb907d3b93b6e0e5",
    "execution": {
     "iopub.execute_input": "2022-06-01T18:52:34.069811Z",
     "iopub.status.busy": "2022-06-01T18:52:34.069095Z",
     "iopub.status.idle": "2022-06-01T18:52:57.413169Z",
     "shell.execute_reply": "2022-06-01T18:52:57.411594Z"
    },
    "papermill": {
     "duration": 23.356471,
     "end_time": "2022-06-01T18:52:57.416638",
     "exception": false,
     "start_time": "2022-06-01T18:52:34.060167",
     "status": "completed"
    },
    "tags": []
   },
   "outputs": [
    {
     "name": "stdout",
     "output_type": "stream",
     "text": [
      "Collecting trimesh\r\n",
      "  Downloading trimesh-3.12.5-py3-none-any.whl (646 kB)\r\n",
      "\u001b[2K     \u001b[90m━━━━━━━━━━━━━━━━━━━━━━━━━━━━━━━━━━━━━━━\u001b[0m \u001b[32m646.2/646.2 kB\u001b[0m \u001b[31m2.6 MB/s\u001b[0m eta \u001b[36m0:00:00\u001b[0m\r\n",
      "\u001b[?25hRequirement already satisfied: numpy in /opt/conda/lib/python3.7/site-packages (from trimesh) (1.21.6)\r\n",
      "Installing collected packages: trimesh\r\n",
      "Successfully installed trimesh-3.12.5\r\n",
      "\u001b[33mWARNING: Running pip as the 'root' user can result in broken permissions and conflicting behaviour with the system package manager. It is recommended to use a virtual environment instead: https://pip.pypa.io/warnings/venv\u001b[0m\u001b[33m\r\n",
      "\u001b[0m"
     ]
    }
   ],
   "source": [
    "import os\n",
    "import pandas as pd\n",
    "import numpy as np\n",
    "import matplotlib.pyplot as plt\n",
    "import torch\n",
    "import torch.nn.functional as F\n",
    "import torch.optim as optim\n",
    "from torch.utils.data import Dataset,DataLoader\n",
    "## Point Net Implementation\n",
    "import trimesh\n",
    "import gc\n"
   ]
  },
  {
   "cell_type": "markdown",
   "id": "3bed3e39",
   "metadata": {
    "papermill": {
     "duration": 0.006462,
     "end_time": "2022-06-01T18:52:57.429857",
     "exception": false,
     "start_time": "2022-06-01T18:52:57.423395",
     "status": "completed"
    },
    "tags": []
   },
   "source": [
    "### Dataset"
   ]
  },
  {
   "cell_type": "code",
   "execution_count": 2,
   "id": "56dc2bdb",
   "metadata": {
    "execution": {
     "iopub.execute_input": "2022-06-01T18:52:57.447632Z",
     "iopub.status.busy": "2022-06-01T18:52:57.445574Z",
     "iopub.status.idle": "2022-06-01T18:52:57.468946Z",
     "shell.execute_reply": "2022-06-01T18:52:57.467849Z"
    },
    "papermill": {
     "duration": 0.034999,
     "end_time": "2022-06-01T18:52:57.471850",
     "exception": false,
     "start_time": "2022-06-01T18:52:57.436851",
     "status": "completed"
    },
    "tags": []
   },
   "outputs": [],
   "source": [
    "class PointCloud(Dataset):\n",
    "\n",
    "    def __init__(self, root_dir, n=50176,train = True):\n",
    "        self.classes = os.listdir(root_dir)\n",
    "        self.root_dir = root_dir\n",
    "        self.n = n\n",
    "        self.labels = {}\n",
    "        self.train = train\n",
    "        \n",
    "        for i in range(len(self.classes)):\n",
    "            self.labels[self.classes[i]] = i\n",
    "        \n",
    "        trainls = []\n",
    "        df = pd.DataFrame(trainls)\n",
    "        for i in range(len(self.classes)):\n",
    "            folderpath = self.root_dir + \"/\" + self.classes[i] + \"/train/\"  \n",
    "            for j in os.listdir(folderpath):\n",
    "                trainls.append(folderpath + j)  \n",
    "        self.trainfilepath = pd.DataFrame(trainls)\n",
    "\n",
    "        testls = []\n",
    "        for i in range(len(self.classes)):\n",
    "            folderpath = self.root_dir + \"/\" + self.classes[i] + \"/test/\"  \n",
    "            for j in os.listdir(folderpath):\n",
    "                testls.append(folderpath + j) \n",
    "        self.testfilepath = pd.DataFrame(testls)\n",
    "                    \n",
    "    def __len__(self):\n",
    "        if self.train == True:\n",
    "            return len(self.trainfilepath)\n",
    "        if self.train == False:\n",
    "            return len(self.testfilepath)\n",
    "\n",
    "    def __getitem__(self, idx):\n",
    "        # idx is row number\n",
    "        if torch.is_tensor(idx):\n",
    "            idx = idx.tolist()\n",
    "            \n",
    "        \n",
    "        if self.train == True:\n",
    "            lslabel = np.zeros(10)\n",
    "            path = self.trainfilepath.iloc[idx][0]\n",
    "            points = trimesh.load(self.trainfilepath.iloc[idx][0]).sample(self.n)\n",
    "            for i in self.labels.keys():\n",
    "                if i in path:\n",
    "                    lslabel[self.labels[i]] = 1\n",
    "                \n",
    "            return torch.tensor(points),lslabel  \n",
    "                    \n",
    "        elif self.train == False:  \n",
    "            ls = 0\n",
    "            path = self.testfilepath.iloc[idx][0]\n",
    "            points = trimesh.load(self.testfilepath.iloc[idx][0]).sample(self.n)\n",
    "            for i in self.labels.keys():\n",
    "                if i in path:\n",
    "                    ls = self.labels[i]\n",
    "            return torch.tensor(points),ls\n",
    "        "
   ]
  },
  {
   "cell_type": "code",
   "execution_count": 3,
   "id": "7a168754",
   "metadata": {
    "execution": {
     "iopub.execute_input": "2022-06-01T18:52:57.487138Z",
     "iopub.status.busy": "2022-06-01T18:52:57.486681Z",
     "iopub.status.idle": "2022-06-01T18:52:58.885844Z",
     "shell.execute_reply": "2022-06-01T18:52:58.884700Z"
    },
    "papermill": {
     "duration": 1.410235,
     "end_time": "2022-06-01T18:52:58.888764",
     "exception": false,
     "start_time": "2022-06-01T18:52:57.478529",
     "status": "completed"
    },
    "tags": []
   },
   "outputs": [],
   "source": [
    "pointcloudtrain_dataset = PointCloud(root_dir='../input/modelnet10-princeton-3d-object-dataset/ModelNet10/',n = 5000,train = True)\n",
    "pointcloudtest_dataset = PointCloud(root_dir='../input/modelnet10-princeton-3d-object-dataset/ModelNet10/',n = 5000,train = False)"
   ]
  },
  {
   "cell_type": "markdown",
   "id": "4c2c4eb9",
   "metadata": {
    "papermill": {
     "duration": 0.006488,
     "end_time": "2022-06-01T18:52:58.902405",
     "exception": false,
     "start_time": "2022-06-01T18:52:58.895917",
     "status": "completed"
    },
    "tags": []
   },
   "source": [
    "### Plotting"
   ]
  },
  {
   "cell_type": "code",
   "execution_count": 4,
   "id": "a41a8e86",
   "metadata": {
    "execution": {
     "iopub.execute_input": "2022-06-01T18:52:58.918688Z",
     "iopub.status.busy": "2022-06-01T18:52:58.917285Z",
     "iopub.status.idle": "2022-06-01T18:53:00.504646Z",
     "shell.execute_reply": "2022-06-01T18:53:00.502620Z"
    },
    "papermill": {
     "duration": 1.600488,
     "end_time": "2022-06-01T18:53:00.509545",
     "exception": false,
     "start_time": "2022-06-01T18:52:58.909057",
     "status": "completed"
    },
    "tags": []
   },
   "outputs": [
    {
     "data": {
      "image/png": "[encoded data removed]",
      "text/plain": [
       "<Figure size 576x288 with 3 Axes>"
      ]
     },
     "metadata": {
      "needs_background": "light"
     },
     "output_type": "display_data"
    }
   ],
   "source": [
    "fig = plt.figure(figsize=plt.figaspect(0.5))\n",
    "# fig.suptitle('Horizontally stacked subplots')\n",
    "sample,label = pointcloudtrain_dataset[100]\n",
    "#fig = plt.figure(figsize=(5, 5))\n",
    "ax = fig.add_subplot(1, 3, 1, projection='3d')\n",
    "surf = ax.scatter(sample[:, 0], sample[:, 1], sample[:, 2])\n",
    "\n",
    "\n",
    "sample,label = pointcloudtrain_dataset[190]\n",
    "ax = fig.add_subplot(1, 3, 2, projection='3d')\n",
    "\n",
    "ax.scatter(sample[:, 0], sample[:, 1], sample[:, 2])\n",
    "\n",
    "sample,label = pointcloudtrain_dataset[350]\n",
    "ax = fig.add_subplot(1, 3, 3, projection='3d')\n",
    "ax.scatter(sample[:, 0], sample[:, 1], sample[:, 2])\n",
    "\n",
    "plt.show()"
   ]
  },
  {
   "cell_type": "code",
   "execution_count": 5,
   "id": "91e80489",
   "metadata": {
    "execution": {
     "iopub.execute_input": "2022-06-01T18:53:00.542456Z",
     "iopub.status.busy": "2022-06-01T18:53:00.541675Z",
     "iopub.status.idle": "2022-06-01T18:53:00.561265Z",
     "shell.execute_reply": "2022-06-01T18:53:00.560092Z"
    },
    "papermill": {
     "duration": 0.042734,
     "end_time": "2022-06-01T18:53:00.565340",
     "exception": false,
     "start_time": "2022-06-01T18:53:00.522606",
     "status": "completed"
    },
    "tags": []
   },
   "outputs": [
    {
     "name": "stdout",
     "output_type": "stream",
     "text": [
      "cuda:0\n"
     ]
    }
   ],
   "source": [
    "from torch.utils.data.dataloader import default_collate\n",
    "\n",
    "device = torch.device('cuda:0')  # or whatever device/cpu you like\n",
    "\n",
    "# the new collate function is quite generic\n",
    "trainloader = DataLoader(pointcloudtrain_dataset, batch_size=128, shuffle=True, \n",
    "                    collate_fn=lambda x: tuple(x_.to(device) for x_ in default_collate(x)))\n",
    "testloader = DataLoader(pointcloudtest_dataset, batch_size=128, shuffle=False, \n",
    "                    collate_fn=lambda x: tuple(x_.to(device) for x_ in default_collate(x)))\n",
    "\n",
    "\n",
    "\n",
    "# Assuming that we are on a CUDA machine, this should print a CUDA device:\n",
    "\n",
    "print(device)"
   ]
  },
  {
   "cell_type": "code",
   "execution_count": 6,
   "id": "497b19b0",
   "metadata": {
    "execution": {
     "iopub.execute_input": "2022-06-01T18:53:00.593261Z",
     "iopub.status.busy": "2022-06-01T18:53:00.592590Z",
     "iopub.status.idle": "2022-06-01T18:53:26.006038Z",
     "shell.execute_reply": "2022-06-01T18:53:26.004844Z"
    },
    "papermill": {
     "duration": 25.431095,
     "end_time": "2022-06-01T18:53:26.008945",
     "exception": false,
     "start_time": "2022-06-01T18:53:00.577850",
     "status": "completed"
    },
    "tags": []
   },
   "outputs": [
    {
     "name": "stdout",
     "output_type": "stream",
     "text": [
      "torch.Size([128, 5000, 3])\n"
     ]
    }
   ],
   "source": [
    "dataiter = iter(testloader)\n",
    "\n",
    "points, labels = dataiter.next()\n",
    "print(points.shape)"
   ]
  },
  {
   "cell_type": "code",
   "execution_count": 7,
   "id": "9c513eb5",
   "metadata": {
    "execution": {
     "iopub.execute_input": "2022-06-01T18:53:26.026166Z",
     "iopub.status.busy": "2022-06-01T18:53:26.025671Z",
     "iopub.status.idle": "2022-06-01T18:53:26.049495Z",
     "shell.execute_reply": "2022-06-01T18:53:26.048087Z"
    },
    "papermill": {
     "duration": 0.036518,
     "end_time": "2022-06-01T18:53:26.053108",
     "exception": false,
     "start_time": "2022-06-01T18:53:26.016590",
     "status": "completed"
    },
    "tags": []
   },
   "outputs": [],
   "source": [
    "import torch.nn as nn\n",
    "import torch.nn.functional as F\n",
    "\n",
    "class PointNet(nn.Module):\n",
    "    def __init__(self):\n",
    "        super(PointNet, self).__init__()\n",
    "\n",
    "        self.weight1 = nn.Parameter(torch.eye(3,device=torch.device('cuda:0')))\n",
    "        self.weight2 = nn.Parameter(torch.eye(64,device=torch.device('cuda:0')))\n",
    "        \n",
    "        self.fc1 = nn.Sequential(nn.Linear(3,64),nn.BatchNorm1d(5000))\n",
    "        self.fc2 = nn.Sequential(nn.Linear(64,64),nn.BatchNorm1d(5000))\n",
    "        \n",
    "        \n",
    "        self.fc3 = nn.Sequential(nn.Linear(64,64),nn.BatchNorm1d(5000))\n",
    "        self.fc4 = nn.Sequential(nn.Linear(64,128),nn.BatchNorm1d(5000))\n",
    "        self.fc5 = nn.Sequential(nn.Linear(128,1024),nn.BatchNorm1d(5000))\n",
    "        \n",
    "        \n",
    "        self.fc6 = nn.Sequential(nn.Linear(1024,512),nn.BatchNorm1d(512))\n",
    "        self.fc7 = nn.Sequential(nn.Linear(512,256),nn.BatchNorm1d(256))\n",
    "        self.fc8 = nn.Sequential(nn.Linear(256,10))\n",
    "        \n",
    "    def matrix1(self,x):\n",
    "        return torch.matmul(x, self.weight1)\n",
    "    \n",
    "    def matrix2(self,x):\n",
    "        return torch.matmul(x, self.weight2)\n",
    "    \n",
    "    \n",
    "    def forward(self, x):\n",
    "        # first transformation to the input\n",
    "        x = self.matrix1(x)\n",
    "        \n",
    "        \n",
    "        #batch size should not be multiplied\n",
    "        x = nn.Flatten(2, -1)(x)\n",
    "        \n",
    "#        fully connected layer\n",
    "        x = F.relu(self.fc1(x))\n",
    "        x = F.relu(self.fc2(x))\n",
    "\n",
    "#         second transformatino to the input\n",
    "        x = self.matrix2(x)\n",
    "        \n",
    "        x = F.relu(self.fc3(x))\n",
    "        x = F.relu(self.fc4(x))\n",
    "        x = F.relu(self.fc5(x))\n",
    "        \n",
    "        x, max_indices = torch.max(x, dim=1)\n",
    "        \n",
    "        x = F.relu(self.fc6(x))\n",
    "        x = F.relu(self.fc7(x))\n",
    "        x = F.relu(self.fc8(x))\n",
    "        \n",
    "        return x\n"
   ]
  },
  {
   "cell_type": "code",
   "execution_count": 8,
   "id": "0c595fa4",
   "metadata": {
    "execution": {
     "iopub.execute_input": "2022-06-01T18:53:26.072280Z",
     "iopub.status.busy": "2022-06-01T18:53:26.071657Z",
     "iopub.status.idle": "2022-06-01T18:53:26.103190Z",
     "shell.execute_reply": "2022-06-01T18:53:26.102031Z"
    },
    "papermill": {
     "duration": 0.044211,
     "end_time": "2022-06-01T18:53:26.105775",
     "exception": false,
     "start_time": "2022-06-01T18:53:26.061564",
     "status": "completed"
    },
    "tags": []
   },
   "outputs": [
    {
     "data": {
      "text/plain": [
       "0"
      ]
     },
     "execution_count": 8,
     "metadata": {},
     "output_type": "execute_result"
    }
   ],
   "source": [
    "Network = PointNet()\n",
    "Network.cuda()\n",
    "torch.cuda.current_device()"
   ]
  },
  {
   "cell_type": "code",
   "execution_count": 9,
   "id": "bf68120d",
   "metadata": {
    "execution": {
     "iopub.execute_input": "2022-06-01T18:53:26.125353Z",
     "iopub.status.busy": "2022-06-01T18:53:26.124117Z",
     "iopub.status.idle": "2022-06-01T18:53:26.132619Z",
     "shell.execute_reply": "2022-06-01T18:53:26.131360Z"
    },
    "papermill": {
     "duration": 0.020882,
     "end_time": "2022-06-01T18:53:26.135255",
     "exception": false,
     "start_time": "2022-06-01T18:53:26.114373",
     "status": "completed"
    },
    "tags": []
   },
   "outputs": [],
   "source": [
    "criterion = nn.CrossEntropyLoss()\n",
    "optimizer = optim.SGD(Network.parameters(), lr=0.001, momentum=0.9)\n",
    "def accuracy(out, labels):\n",
    "    _,pred = torch.max(out, dim=1)\n",
    "    return torch.sum(pred==labels).item()\n"
   ]
  },
  {
   "cell_type": "code",
   "execution_count": 10,
   "id": "8b10c6ec",
   "metadata": {
    "execution": {
     "iopub.execute_input": "2022-06-01T18:53:26.155285Z",
     "iopub.status.busy": "2022-06-01T18:53:26.154810Z",
     "iopub.status.idle": "2022-06-01T21:45:23.973321Z",
     "shell.execute_reply": "2022-06-01T21:45:23.972484Z"
    },
    "papermill": {
     "duration": 10317.837917,
     "end_time": "2022-06-01T21:45:23.981706",
     "exception": false,
     "start_time": "2022-06-01T18:53:26.143789",
     "status": "completed"
    },
    "tags": []
   },
   "outputs": [
    {
     "name": "stdout",
     "output_type": "stream",
     "text": [
      "Epoch [1/20], Step [32/32], Loss: 1.9262\n",
      "Epoch [2/20], Step [32/32], Loss: 1.7311\n",
      "Epoch [3/20], Step [32/32], Loss: 1.7837\n",
      "Epoch [4/20], Step [32/32], Loss: 1.4289\n",
      "Epoch [5/20], Step [32/32], Loss: 1.5637\n",
      "Epoch [6/20], Step [32/32], Loss: 0.7920\n",
      "Epoch [7/20], Step [32/32], Loss: 0.9345\n",
      "Epoch [8/20], Step [32/32], Loss: 0.9022\n",
      "Epoch [9/20], Step [32/32], Loss: 0.9812\n",
      "Epoch [10/20], Step [32/32], Loss: 0.9160\n",
      "Epoch [11/20], Step [32/32], Loss: 1.2299\n",
      "Epoch [12/20], Step [32/32], Loss: 0.6100\n",
      "Epoch [13/20], Step [32/32], Loss: 0.7260\n",
      "Epoch [14/20], Step [32/32], Loss: 0.8116\n",
      "Epoch [15/20], Step [32/32], Loss: 0.7578\n",
      "Epoch [16/20], Step [32/32], Loss: 0.5904\n",
      "Epoch [17/20], Step [32/32], Loss: 0.6638\n",
      "Epoch [18/20], Step [32/32], Loss: 0.5559\n",
      "Epoch [19/20], Step [32/32], Loss: 0.7868\n",
      "Epoch [20/20], Step [32/32], Loss: 0.9059\n",
      "Finished Training\n"
     ]
    }
   ],
   "source": [
    "total_step = len(trainloader)\n",
    "startepoch = 0\n",
    "torch.cuda.synchronize()\n",
    "for epoch in range(startepoch,20):\n",
    "    running_loss = 0.0\n",
    "    for i, data in enumerate(trainloader, 0):\n",
    "        inputs, labels = data\n",
    "        inputs, labels = inputs.to(device,dtype=torch.float), labels.to(device,dtype=torch.float)\n",
    "#         inputs,labels = inputs.float(),labels.float()\n",
    "        optimizer.zero_grad()\n",
    "        outputs = Network(inputs)\n",
    "\n",
    "        loss = criterion(outputs, labels).to(device)\n",
    "        loss.backward()\n",
    "        optimizer.step()\n",
    "\n",
    "        running_loss += loss.item()\n",
    "\n",
    "    torch.save({\n",
    "            'epoch': epoch,\n",
    "            'model_state_dict': Network.state_dict(),\n",
    "            'optimizer_state_dict': optimizer.state_dict(),\n",
    "            'loss': loss,\n",
    "            }, \"model.pth\")\n",
    "\n",
    "    if (epoch+1) % 1 == 0:\n",
    "            print ('Epoch [{}/{}], Step [{}/{}], Loss: {:.4f}' \n",
    "            .format(epoch+1, 20, i+1, total_step, loss.item()))\n",
    "print('Finished Training')\n"
   ]
  },
  {
   "cell_type": "markdown",
   "id": "6a7fbaf9",
   "metadata": {},
   "source": [
    "### Evaluation"
   ]
  },
  {
   "cell_type": "code",
   "execution_count": 11,
   "id": "0652b036",
   "metadata": {
    "execution": {
     "iopub.execute_input": "2022-06-01T21:45:23.995693Z",
     "iopub.status.busy": "2022-06-01T21:45:23.995322Z",
     "iopub.status.idle": "2022-06-01T21:46:47.385579Z",
     "shell.execute_reply": "2022-06-01T21:46:47.383847Z"
    },
    "papermill": {
     "duration": 83.404901,
     "end_time": "2022-06-01T21:46:47.393079",
     "exception": false,
     "start_time": "2022-06-01T21:45:23.988178",
     "status": "completed"
    },
    "tags": []
   },
   "outputs": [
    {
     "name": "stdout",
     "output_type": "stream",
     "text": [
      "Accuracy of the network on the test images: 31 %\n"
     ]
    }
   ],
   "source": [
    "Network.eval()\n",
    "correct = 0\n",
    "total = 0\n",
    "# since we're not training, we don't need to calculate the gradients for our outputs\n",
    "with torch.no_grad():\n",
    "    for data in testloader:\n",
    "        images, labels = data\n",
    "        images, labels = images.to(device,dtype=torch.float), labels.to(device,dtype=torch.float)\n",
    "        # calculate outputs by running images through the network\n",
    "        outputs = Network(images)\n",
    "        # the class with the highest energy is what we choose as prediction\n",
    "        _, predicted = torch.max(outputs.data, 1)\n",
    "        total += labels.size(0)\n",
    "        correct += (predicted == labels).sum().item()\n",
    "\n",
    "print('Accuracy of the network on the test images: %d %%' % (\n",
    "    100 * correct / total))"
   ]
  },
  {
   "cell_type": "code",
   "execution_count": 12,
   "id": "f757ab3d",
   "metadata": {
    "execution": {
     "iopub.execute_input": "2022-06-01T21:46:47.407097Z",
     "iopub.status.busy": "2022-06-01T21:46:47.406820Z",
     "iopub.status.idle": "2022-06-01T21:46:47.497872Z",
     "shell.execute_reply": "2022-06-01T21:46:47.496991Z"
    },
    "papermill": {
     "duration": 0.100136,
     "end_time": "2022-06-01T21:46:47.499739",
     "exception": false,
     "start_time": "2022-06-01T21:46:47.399603",
     "status": "completed"
    },
    "tags": []
   },
   "outputs": [],
   "source": [
    "torch.cuda.empty_cache()"
   ]
  }
 ],
 "metadata": {
  "kernelspec": {
   "display_name": "Python 3 (ipykernel)",
   "language": "python",
   "name": "python3"
  },
  "language_info": {
   "codemirror_mode": {
    "name": "ipython",
    "version": 3
   },
   "file_extension": ".py",
   "mimetype": "text/x-python",
   "name": "python",
   "nbconvert_exporter": "python",
   "pygments_lexer": "ipython3",
   "version": "3.10.9"
  },
  "papermill": {
   "default_parameters": {},
   "duration": 10469.691178,
   "end_time": "2022-06-01T21:46:48.857050",
   "environment_variables": {},
   "exception": null,
   "input_path": "__notebook__.ipynb",
   "output_path": "__notebook__.ipynb",
   "parameters": {},
   "start_time": "2022-06-01T18:52:19.165872",
   "version": "2.3.4"
  }
 },
 "nbformat": 4,
 "nbformat_minor": 5
}
